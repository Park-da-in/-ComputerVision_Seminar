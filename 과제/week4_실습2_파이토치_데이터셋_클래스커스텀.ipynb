{
  "nbformat": 4,
  "nbformat_minor": 0,
  "metadata": {
    "colab": {
      "provenance": [],
      "mount_file_id": "1jqYeXzg9vdF13tMJHmMfFD9e2OGo7xvt",
      "authorship_tag": "ABX9TyPM/lYXUz5QWyhw6iIIvbpj",
      "include_colab_link": true
    },
    "kernelspec": {
      "name": "python3",
      "display_name": "Python 3"
    },
    "language_info": {
      "name": "python"
    },
    "accelerator": "GPU",
    "gpuClass": "standard"
  },
  "cells": [
    {
      "cell_type": "markdown",
      "metadata": {
        "id": "view-in-github",
        "colab_type": "text"
      },
      "source": [
        "<a href=\"https://colab.research.google.com/github/Park-da-in/ComputerVision_Seminar/blob/main/week4_%EC%8B%A4%EC%8A%B52_%ED%8C%8C%EC%9D%B4%ED%86%A0%EC%B9%98_%EB%8D%B0%EC%9D%B4%ED%84%B0%EC%85%8B_%ED%81%B4%EB%9E%98%EC%8A%A4%EC%BB%A4%EC%8A%A4%ED%85%80.ipynb\" target=\"_parent\"><img src=\"https://colab.research.google.com/assets/colab-badge.svg\" alt=\"Open In Colab\"/></a>"
      ]
    },
    {
      "cell_type": "code",
      "source": [
        "pwd"
      ],
      "metadata": {
        "colab": {
          "base_uri": "https://localhost:8080/",
          "height": 35
        },
        "id": "L8jT-hz597a0",
        "outputId": "04c75653-3df0-4def-d3c8-3d28ad72e01c"
      },
      "execution_count": null,
      "outputs": [
        {
          "output_type": "execute_result",
          "data": {
            "text/plain": [
              "'/content'"
            ],
            "application/vnd.google.colaboratory.intrinsic+json": {
              "type": "string"
            }
          },
          "metadata": {},
          "execution_count": 1
        }
      ]
    },
    {
      "cell_type": "code",
      "source": [
        "%cd /content/drive/MyDrive/CV_seminar_project"
      ],
      "metadata": {
        "colab": {
          "base_uri": "https://localhost:8080/"
        },
        "id": "zLG0Ku_I97YK",
        "outputId": "aa2032ad-c64b-440c-913d-d1904d4cdac6"
      },
      "execution_count": null,
      "outputs": [
        {
          "output_type": "stream",
          "name": "stdout",
          "text": [
            "/content/drive/MyDrive/CV_seminar_project\n"
          ]
        }
      ]
    },
    {
      "cell_type": "code",
      "execution_count": null,
      "metadata": {
        "id": "tawPvtMl58_R"
      },
      "outputs": [],
      "source": [
        "import torch\n",
        "import torchvision\n",
        "from torchvision import transforms # 이미지 데이터 augmentation\n",
        "import os\n",
        "import glob\n",
        "\n",
        "device = 'cuda' if torch.cuda.is_available() else 'cpu'\n",
        "torch.manual_seed(42)\n",
        "if device == 'cuda':\n",
        "  torch.cuda.manual_seed_all(42)"
      ]
    },
    {
      "cell_type": "code",
      "source": [
        "device"
      ],
      "metadata": {
        "colab": {
          "base_uri": "https://localhost:8080/",
          "height": 35
        },
        "id": "lJ3CkdyC_TXt",
        "outputId": "32512bed-ba93-45c5-e127-cd948c0b080b"
      },
      "execution_count": null,
      "outputs": [
        {
          "output_type": "execute_result",
          "data": {
            "text/plain": [
              "'cuda'"
            ],
            "application/vnd.google.colaboratory.intrinsic+json": {
              "type": "string"
            }
          },
          "metadata": {},
          "execution_count": 4
        }
      ]
    },
    {
      "cell_type": "code",
      "source": [
        "train_path = '/content/drive/MyDrive/CV_seminar_project/train'\n",
        "test_path = '/content/drive/MyDrive/CV_seminar_project/test'\n",
        "\n",
        "dolphin_dir = '/dolphin'\n",
        "shark_dir = '/shark'\n",
        "whale_dir = '/whale'"
      ],
      "metadata": {
        "id": "XdSv3lYI_Tc_"
      },
      "execution_count": null,
      "outputs": []
    },
    {
      "cell_type": "code",
      "source": [
        "root_path = '/content/drive/MyDrive/CV_seminar_project'\n",
        "train_path = '/content/drive/MyDrive/CV_seminar_project/train'\n",
        "test_path = '/content/drive/MyDrive/CV_seminar_project/test'"
      ],
      "metadata": {
        "id": "hRHvWCJ1_Tac"
      },
      "execution_count": null,
      "outputs": []
    }
  ]
}
